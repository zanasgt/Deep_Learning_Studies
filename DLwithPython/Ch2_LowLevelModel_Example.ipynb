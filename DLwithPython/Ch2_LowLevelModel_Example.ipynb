{
  "nbformat": 4,
  "nbformat_minor": 0,
  "metadata": {
    "colab": {
      "name": "NLP_Book_Ch2_LowLevelModel_Example.ipynb",
      "provenance": [],
      "collapsed_sections": [],
      "authorship_tag": "ABX9TyPfebvMk4EgQ0qTkN1qJ9kB"
    },
    "kernelspec": {
      "name": "python3",
      "display_name": "Python 3"
    },
    "language_info": {
      "name": "python"
    }
  },
  "cells": [
    {
      "cell_type": "code",
      "metadata": {
        "id": "o2H_JQB4EX3B"
      },
      "source": [
        "# A simple Dense Class\n",
        "import tensorflow as tf\n",
        "import math\n",
        "\n",
        "class NaiveDense:\n",
        "  def __init__(self, input_size, output_size, activation):\n",
        "    self.activation = activation\n",
        "\n",
        "    w_shape = (input_size, output_size)\n",
        "    a=math.exp(-1)\n",
        "    w_initial_value = tf.random.uniform(w_shape, minval = 0, maxval=1e-1)\n",
        "    self.W = tf.Variable(w_initial_value)\n",
        "\n",
        "    b_shape = (output_size, )\n",
        "    b_initial_value = tf.random.uniform(b_shape)\n",
        "    self.b = tf.Variable(b_initial_value)\n",
        "\n",
        "  def __call__(self, inputs):\n",
        "    return self.activation(tf.matmul(inputs, self.W))\n",
        "  \n",
        "  @property\n",
        "  def weights(self):\n",
        "    return [self.W, self.b]\n",
        "  "
      ],
      "execution_count": null,
      "outputs": []
    },
    {
      "cell_type": "code",
      "metadata": {
        "id": "ldeqd0KcHMkT"
      },
      "source": [
        "# A simple Sequential Class\n",
        "class NaiveSequential:\n",
        "  \n",
        "  def __init__(self, layers):\n",
        "    self.layers = layers\n",
        "  \n",
        "  def __call__(self, inputs):\n",
        "    x = inputs\n",
        "    for layer in self.layers:\n",
        "      x = layer(x)\n",
        "    return x\n",
        "  \n",
        "  @property\n",
        "  def weights(self):\n",
        "    weights = []\n",
        "    for layer in self.layers:\n",
        "      weights += layer.weights\n",
        "    return weights"
      ],
      "execution_count": null,
      "outputs": []
    },
    {
      "cell_type": "code",
      "metadata": {
        "id": "Ii2fHnByIRoZ"
      },
      "source": [
        "#Using Naive Dense and Sequential Class we can make a mock Keras model\n",
        "import tensorflow as tf\n",
        "model = NaiveSequential([\n",
        "                         NaiveDense(input_size = 28*28, output_size = 512, activation = tf.nn.relu),\n",
        "                         NaiveDense(input_size = 512, output_size = 10, activation = tf.nn.softmax)\n",
        "                         ])\n",
        "\n",
        "assert len(model.weights) == 4\n"
      ],
      "execution_count": null,
      "outputs": []
    },
    {
      "cell_type": "code",
      "metadata": {
        "id": "kfw6_kGcJYE8"
      },
      "source": [
        "# A Batch Generator\n",
        "\n",
        "class BatchGenerator:\n",
        "  def __init__(self, images, labels, batch_size = 128):\n",
        "    self.index = 0\n",
        "    self.images = images\n",
        "    self.labels = labels\n",
        "    self.batch_size = batch_size\n",
        "  \n",
        "  def next(self):\n",
        "    images = self.images[self.index : self.index + self.batch_size]\n",
        "    labels = self.labels[self.index : self.index + self.batch_size]\n",
        "    self.index += self.batch_size\n",
        "    return images, labels\n",
        "    "
      ],
      "execution_count": null,
      "outputs": []
    },
    {
      "cell_type": "code",
      "metadata": {
        "colab": {
          "base_uri": "https://localhost:8080/",
          "height": 70
        },
        "id": "__wJtyK7PcNA",
        "outputId": "aa33e1df-baf5-479d-d7e0-e97eed5e8d05"
      },
      "source": [
        "# Running One Training Set\n",
        "\n",
        "def one_training_step_model(model, images_batch, labels_batch):\n",
        "  with tf.GradientTape() as tape:\n",
        "    predictions = model(images_batch)\n",
        "    per_sample_losses = tf.keras.losses.sparse_categorical_crossentropy(\n",
        "        labels_batch, predictions)\n",
        "    avarage_loss = tf.reduce_mean(per_sample_losses)\n",
        "  gradients = tape.gradient(avarage_loss, model.weights)\n",
        "    \n",
        "  update_weights(gradients, model.weights)\n",
        "  return avarage_loss\n",
        "\n",
        "#update_weights update the values related by gradient * learning_rate from each weights\n",
        "\n",
        "learning_rate = 6e-2\n",
        "\n",
        "def update_weights(gradients, weights):\n",
        "  for g, w in zip(gradients, weights):\n",
        "    w.assign_sub(w * learning_rate)   # assign_sub() same with -=\n",
        "\n",
        "''' In practise we almost never implement a weight update step like this by hand\n",
        "Instead, we would use an OPTIMIZER instance from Keras\n",
        "\n",
        "from tensorflow.keras import optimizers\n",
        "optimizer = optimizers.SGD(learning_rate=1e-3)\n",
        "\n",
        "def update_weights(gradients, weights):\n",
        "  optimizer.apply_gradients(zip(gradients, weights))\n",
        "'''"
      ],
      "execution_count": null,
      "outputs": [
        {
          "output_type": "execute_result",
          "data": {
            "application/vnd.google.colaboratory.intrinsic+json": {
              "type": "string"
            },
            "text/plain": [
              "' In practise we almost never implement a weight update step like this by hand\\nInstead, we would use an OPTIMIZER instance from Keras\\n\\nfrom tensorflow.keras import optimizers\\noptimizer = optimizers.SGD(learning_rate=1e-3)\\n\\ndef update_weights(gradients, weights):\\n  optimizer.apply_gradients(zip(gradients, weights))\\n'"
            ]
          },
          "metadata": {},
          "execution_count": 45
        }
      ]
    },
    {
      "cell_type": "code",
      "metadata": {
        "id": "n6EAkLn3e9wF"
      },
      "source": [
        "# The full training loop\n",
        "\n",
        "def fit(model, images, labels, epochs, batch_size=128):\n",
        "  for epoch_counter in range(epochs):\n",
        "    batch_generator = BatchGenerator(images, labels)\n",
        "    for batch_counter in range(len(images) // batch_size):\n",
        "      images_batch, labels_batch = batch_generator.next()\n",
        "      loss = one_trining_step_model(model, images_batch, labels_batch)\n",
        "      if batch_counter % 100 == 0:\n",
        "        print('loss at batch %d: %.2f' % (batch_counter, loss))\n",
        "    print('epoch number: %i' % epoch_counter)"
      ],
      "execution_count": null,
      "outputs": []
    },
    {
      "cell_type": "code",
      "metadata": {
        "colab": {
          "base_uri": "https://localhost:8080/"
        },
        "id": "Dz1ywR5fhMKk",
        "outputId": "19ac6a60-fd69-4b3c-a325-96cfe41450f6"
      },
      "source": [
        "# Testing\n",
        "from tensorflow.keras.datasets import mnist\n",
        "(train_images, train_labels), (test_images, test_label) = mnist.load_data()\n",
        "\n",
        "train_images = train_images.reshape(60000, 28*28)\n",
        "train_images = train_images.astype('float32') / 255\n",
        "test_images = test_images.reshape(10000, 28*28)\n",
        "test_images = test_images.astype('float32') / 255\n",
        "\n",
        "fit(model, train_images, train_labels, epochs=7, batch_size=128)"
      ],
      "execution_count": null,
      "outputs": [
        {
          "output_type": "stream",
          "name": "stdout",
          "text": [
            "loss at batch 0: 4.56\n",
            "loss at batch 100: 2.30\n",
            "loss at batch 200: 2.30\n",
            "loss at batch 300: 2.30\n",
            "loss at batch 400: 2.30\n",
            "epoch number: 0\n",
            "loss at batch 0: 2.30\n",
            "loss at batch 100: 2.30\n",
            "loss at batch 200: 2.30\n",
            "loss at batch 300: 2.30\n",
            "loss at batch 400: 2.30\n",
            "epoch number: 1\n",
            "loss at batch 0: 2.30\n",
            "loss at batch 100: 2.30\n",
            "loss at batch 200: 2.30\n",
            "loss at batch 300: 2.30\n",
            "loss at batch 400: 2.30\n",
            "epoch number: 2\n",
            "loss at batch 0: 2.30\n",
            "loss at batch 100: 2.30\n",
            "loss at batch 200: 2.30\n",
            "loss at batch 300: 2.30\n",
            "loss at batch 400: 2.30\n",
            "epoch number: 3\n",
            "loss at batch 0: 2.30\n",
            "loss at batch 100: 2.30\n",
            "loss at batch 200: 2.30\n",
            "loss at batch 300: 2.30\n",
            "loss at batch 400: 2.30\n",
            "epoch number: 4\n",
            "loss at batch 0: 2.30\n",
            "loss at batch 100: 2.30\n",
            "loss at batch 200: 2.30\n",
            "loss at batch 300: 2.30\n",
            "loss at batch 400: 2.30\n",
            "epoch number: 5\n",
            "loss at batch 0: 2.30\n",
            "loss at batch 100: 2.30\n",
            "loss at batch 200: 2.30\n",
            "loss at batch 300: 2.30\n",
            "loss at batch 400: 2.30\n",
            "epoch number: 6\n"
          ]
        }
      ]
    },
    {
      "cell_type": "code",
      "metadata": {
        "id": "kk2R6Qslrq8P"
      },
      "source": [
        ""
      ],
      "execution_count": null,
      "outputs": []
    }
  ]
}
