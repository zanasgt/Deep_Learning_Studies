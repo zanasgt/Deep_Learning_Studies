{
  "nbformat": 4,
  "nbformat_minor": 0,
  "metadata": {
    "colab": {
      "name": "Ch3_6_Inherite Keras Layer to Implement Defined Properties.ipynb",
      "provenance": [],
      "collapsed_sections": [],
      "authorship_tag": "ABX9TyMPTHmH4giR2EMGpwd4rzfD"
    },
    "kernelspec": {
      "name": "python3",
      "display_name": "Python 3"
    },
    "language_info": {
      "name": "python"
    }
  },
  "cells": [
    {
      "cell_type": "code",
      "metadata": {
        "colab": {
          "base_uri": "https://localhost:8080/"
        },
        "id": "DZnLpK9Bc_W6",
        "outputId": "b24393b7-09a8-4fde-b50a-a275772cde3c"
      },
      "source": [
        "# Base Layer Class\n",
        "# We can use keras properties and add additional modifiers by heritation\n",
        "import tensorflow as tf\n",
        "from tensorflow import keras\n",
        "'''\n",
        "tf.keras.layers.Layer(\n",
        "    trainable=True, name=None, dtype=None, dynamic=False, **kwargs\n",
        ")\n",
        "'''\n",
        "class SimpleDense(keras.layers.Layer):\n",
        "\n",
        "  def __init__(self, units, activation= None):\n",
        "    super(SimpleDense, self).__init__()\n",
        "    self.units = units\n",
        "    self.activation = activation\n",
        "\n",
        "  # Weight and b creation made in build\n",
        "  def build(self, input_shape):\n",
        "    input_dim = input_shape[-1]  # because dot product last dim of input taken\n",
        "    self.W = self.add_weight(shape=(input_dim, self.units),    #add_weight Variable türünde ekliyor direk\n",
        "                             initializer = 'random_normal')\n",
        "    self.b = self.add_weight(shape=(self.units),\n",
        "                             initializer='zeros')\n",
        "    \n",
        "  def call(self, inputs):\n",
        "    y = tf.matmul(inputs, self.W) + self.b\n",
        "    if self.activation is not None:\n",
        "      y = self.activation(y)\n",
        "    return y\n",
        "\n",
        "my_dense = SimpleDense(units=32, activation=tf.nn.relu)\n",
        "input_tensor = tf.ones(shape=(2, 784))\n",
        "output_tensor = my_dense(input_tensor)\n",
        "print(output_tensor.shape)\n",
        "print(my_dense.W)\n",
        "print(my_dense.b)\n",
        "\n",
        "# But why we use call() and build() methods?\n",
        "# Build initialize the object instances by taking input\n",
        "# Call determine the output when the model object called"
      ],
      "execution_count": null,
      "outputs": [
        {
          "output_type": "stream",
          "name": "stdout",
          "text": [
            "(2, 32)\n",
            "<tf.Variable 'simple_dense/Variable:0' shape=(784, 32) dtype=float32, numpy=\n",
            "array([[ 0.07294996, -0.04339054,  0.04681288, ...,  0.09041422,\n",
            "         0.134847  , -0.00414603],\n",
            "       [-0.01927571, -0.04830379, -0.00691075, ..., -0.07701381,\n",
            "         0.10253685,  0.04319567],\n",
            "       [-0.05991657,  0.0379573 , -0.01543775, ..., -0.04796085,\n",
            "         0.01729435, -0.04981169],\n",
            "       ...,\n",
            "       [ 0.03486204,  0.10667232,  0.0746677 , ...,  0.03806446,\n",
            "        -0.00920036, -0.06593063],\n",
            "       [-0.00381682,  0.03118725, -0.04356138, ..., -0.00886875,\n",
            "        -0.00524579, -0.00853721],\n",
            "       [ 0.02094048,  0.06981956,  0.069665  , ..., -0.04560458,\n",
            "        -0.07050873, -0.08733352]], dtype=float32)>\n",
            "<tf.Variable 'simple_dense/Variable:0' shape=(32,) dtype=float32, numpy=\n",
            "array([0., 0., 0., 0., 0., 0., 0., 0., 0., 0., 0., 0., 0., 0., 0., 0., 0.,\n",
            "       0., 0., 0., 0., 0., 0., 0., 0., 0., 0., 0., 0., 0., 0., 0.],\n",
            "      dtype=float32)>\n"
          ]
        }
      ]
    },
    {
      "cell_type": "code",
      "metadata": {
        "id": "m48Z-C1Agukm",
        "colab": {
          "base_uri": "https://localhost:8080/"
        },
        "outputId": "2d280ba6-fd6a-4f2f-aed1-3f4355175653"
      },
      "source": [
        "from tensorflow import keras\n",
        "\n",
        "# Stick the denses like a logo with Keras\n",
        "# 1 Layer Example\n",
        "from keras.datasets import mnist\n",
        "'''import numpy as np\n",
        "num_samples_per_class = 1000\n",
        "negative_samples = np.random.multivariate_normal(\n",
        "    mean= [1, 0], cov=[[1, 0.5], [0.5, 1]], size=num_samples_per_class\n",
        ")\n",
        "positive_samples = np.random.multivariate_normal(\n",
        "    mean= [0, 1], cov= [[1, 0.5], [0.5, 1]], size=num_samples_per_class\n",
        ")\n",
        "\n",
        "# Stack these two array to a (2000, 2) array shape\n",
        "inputs = np.vstack((negative_samples, positive_samples)).astype(np.float32)\n",
        "print(inputs.shape)\n",
        "targets = np.vstack((np.zeros((num_samples_per_class, 1), dtype='float32'),\n",
        "                     np.ones((num_samples_per_class, 1), dtype='float32')))'''\n",
        "\n",
        "model = keras.Sequential([keras.layers.Dense(1)])   # A linear classifier\n",
        "model.compile(#optimizer= 'rmsprop',                 # compile take input of optimizer,loss, metrics\n",
        "              optimizer = keras.optimizers.RMSprop(learning_rate= 1e-1),\n",
        "              loss = 'mean_squared_error',\n",
        "              # keras.losses.MeanSquareError()\n",
        "              metrics = ['accuracy'])\n",
        "              # keras.metrics.BinaryAccuracy()\n",
        "\n",
        "# To give important parameters BY HAND it is important to use call then using type enums:\n",
        "'''model.compile(optimizer= keras.optimizers.RMSprop(learning_rate=1e-4, rho=0.9),\n",
        "              loss = keras.losses.binary_crossentropy(), # or my_loss_function\n",
        "              metrics = [keras.metrics.binary_accuracy()]) # or [my_custom_metrics_1, my_custom_metrics_2]'''\n",
        "\n",
        "# Can look at parameters at web page\n",
        "\n",
        "# After compile comes fit\n",
        "\n",
        "history = model.fit(\n",
        "    inputs,\n",
        "    targets,\n",
        "    epochs= 15,\n",
        "    batch_size = 128\n",
        ")\n",
        "\n",
        "history.history"
      ],
      "execution_count": null,
      "outputs": [
        {
          "output_type": "stream",
          "name": "stdout",
          "text": [
            "Epoch 1/15\n",
            "16/16 [==============================] - 0s 1ms/step - loss: 0.7233 - accuracy: 0.7045\n",
            "Epoch 2/15\n",
            "16/16 [==============================] - 0s 1ms/step - loss: 0.1203 - accuracy: 0.8485\n",
            "Epoch 3/15\n",
            "16/16 [==============================] - 0s 2ms/step - loss: 0.1204 - accuracy: 0.8525\n",
            "Epoch 4/15\n",
            "16/16 [==============================] - 0s 2ms/step - loss: 0.1497 - accuracy: 0.8055\n",
            "Epoch 5/15\n",
            "16/16 [==============================] - 0s 1ms/step - loss: 0.1371 - accuracy: 0.8205\n",
            "Epoch 6/15\n",
            "16/16 [==============================] - 0s 1ms/step - loss: 0.1354 - accuracy: 0.8290\n",
            "Epoch 7/15\n",
            "16/16 [==============================] - 0s 1ms/step - loss: 0.1378 - accuracy: 0.8220\n",
            "Epoch 8/15\n",
            "16/16 [==============================] - 0s 1ms/step - loss: 0.1368 - accuracy: 0.8265\n",
            "Epoch 9/15\n",
            "16/16 [==============================] - 0s 1ms/step - loss: 0.1416 - accuracy: 0.8130\n",
            "Epoch 10/15\n",
            "16/16 [==============================] - 0s 1ms/step - loss: 0.1373 - accuracy: 0.8325\n",
            "Epoch 11/15\n",
            "16/16 [==============================] - 0s 2ms/step - loss: 0.1391 - accuracy: 0.8205\n",
            "Epoch 12/15\n",
            "16/16 [==============================] - 0s 1ms/step - loss: 0.1420 - accuracy: 0.8140\n",
            "Epoch 13/15\n",
            "16/16 [==============================] - 0s 2ms/step - loss: 0.1390 - accuracy: 0.8185\n",
            "Epoch 14/15\n",
            "16/16 [==============================] - 0s 2ms/step - loss: 0.1331 - accuracy: 0.8230\n",
            "Epoch 15/15\n",
            "16/16 [==============================] - 0s 1ms/step - loss: 0.1403 - accuracy: 0.8100\n"
          ]
        },
        {
          "output_type": "execute_result",
          "data": {
            "text/plain": [
              "{'accuracy': [0.7045000195503235,\n",
              "  0.8485000133514404,\n",
              "  0.8525000214576721,\n",
              "  0.8054999709129333,\n",
              "  0.8205000162124634,\n",
              "  0.8289999961853027,\n",
              "  0.8220000267028809,\n",
              "  0.8264999985694885,\n",
              "  0.8130000233650208,\n",
              "  0.8324999809265137,\n",
              "  0.8205000162124634,\n",
              "  0.8140000104904175,\n",
              "  0.8184999823570251,\n",
              "  0.8230000138282776,\n",
              "  0.8100000023841858],\n",
              " 'loss': [0.7233275175094604,\n",
              "  0.12026631832122803,\n",
              "  0.12041482329368591,\n",
              "  0.14970630407333374,\n",
              "  0.13709895312786102,\n",
              "  0.13538283109664917,\n",
              "  0.1378069669008255,\n",
              "  0.1368100494146347,\n",
              "  0.14161892235279083,\n",
              "  0.13729149103164673,\n",
              "  0.13908162713050842,\n",
              "  0.14197103679180145,\n",
              "  0.13895250856876373,\n",
              "  0.13307996094226837,\n",
              "  0.1403115689754486]}"
            ]
          },
          "metadata": {},
          "execution_count": 20
        }
      ]
    },
    {
      "cell_type": "code",
      "metadata": {
        "id": "F7iBrL5i2sFt"
      },
      "source": [
        ""
      ],
      "execution_count": null,
      "outputs": []
    }
  ]
}
