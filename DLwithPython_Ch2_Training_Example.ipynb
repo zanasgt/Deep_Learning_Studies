{
  "nbformat": 4,
  "nbformat_minor": 0,
  "metadata": {
    "colab": {
      "name": "DLwithPython_Ch2_Training_Example.ipynb adlı not defterinin kopyası",
      "provenance": [],
      "collapsed_sections": [],
      "authorship_tag": "ABX9TyNy8+PfIMCtTS7I62LC1PZq"
    },
    "kernelspec": {
      "name": "python3",
      "display_name": "Python 3"
    },
    "language_info": {
      "name": "python"
    }
  },
  "cells": [
    {
      "cell_type": "code",
      "metadata": {
        "colab": {
          "base_uri": "https://localhost:8080/",
          "height": 300
        },
        "id": "NTSvOGIH6MQn",
        "outputId": "d106a2e0-ddf4-4da9-ee8a-9f0681e42983"
      },
      "source": [
        "# MANUPILATING TENSOR DATA in NumPy\n",
        "from keras.datasets import mnist\n",
        "import numpy as np\n",
        "(train_images, train_label), (test_images, test_label)=mnist.load_data()\n",
        "\n",
        "'''#Slicing the image data to take the interested area as we take 90 images below\n",
        "my_slice=train_images[10:100]\n",
        "print(my_slice.shape)\n",
        "\n",
        "#Also we can take part of the inner matrix\n",
        "my_slice=train_images[10:100, 0:24, 0:24]\n",
        "print(my_slice.shape)\n",
        "#we can also determine the boundary from the last and first elements in the demanded range\n",
        "my_slice = train_images[:, 7:-7, 7:-7]\n",
        "print(my_slice.shape)'''\n",
        "\n",
        "# we load our image data now we should re arrange input for process\n",
        "# these inputs store as numpy array in type float32\n",
        "train_images.shape\n",
        "train_images = train_images.reshape(60000, 28*28)\n",
        "train_images = train_images.astype('float32') / 255\n",
        "\n",
        "test_images = test_images.reshape(10000, 28*28)\n",
        "test_images = test_images.astype('float32') / 255\n",
        "\n",
        "example_image = test_images[19]\n",
        "print(example_image.shape, example_image.ndim, type(example_image))\n",
        "\n",
        "# Already in numpy array format with dtype = 'float32', \n",
        "# if were not\n",
        "# example_image = np.array(example_image, dtype='float32')\n",
        "\n",
        "# We need to reshape as it include 2 layer (3rd is gray)\n",
        "example_image = example_image.reshape((28,28))\n",
        "\n",
        "from matplotlib import pyplot as plt\n",
        "plt.imshow(example_image, cmap='gray')"
      ],
      "execution_count": null,
      "outputs": [
        {
          "output_type": "stream",
          "name": "stdout",
          "text": [
            "(784,) 1 <class 'numpy.ndarray'>\n"
          ]
        },
        {
          "output_type": "execute_result",
          "data": {
            "text/plain": [
              "<matplotlib.image.AxesImage at 0x7f2921f80750>"
            ]
          },
          "metadata": {},
          "execution_count": 11
        },
        {
          "output_type": "display_data",
          "data": {
            "text/plain": [
              "<Figure size 432x288 with 1 Axes>"
            ],
            "image/png": "[encoded data removed]"
          },
          "metadata": {
            "needs_background": "light"
          }
        }
      ]
    },
    {
      "cell_type": "code",
      "source": [
        "#now we can indicate our model\n",
        "import tensorflow as tf\n",
        "from tensorflow import keras\n",
        "from keras import layers\n",
        "model = keras.Sequential([\n",
        "                           layers.Dense(512, activation='relu'),\n",
        "                           layers.Dense(10, activation='softmax')\n",
        "])\n",
        "\n",
        "#now we can arrange optimization and loss function\n",
        "model.compile(optimizer='rmsprop',\n",
        "              loss='sparse_categorical_crossentropy',\n",
        "              metrics='accuracy')\n",
        "\n",
        "#finally training loops\n",
        "model.fit(train_images, train_label, batch_size=256, epochs=5)"
      ],
      "metadata": {
        "colab": {
          "base_uri": "https://localhost:8080/"
        },
        "id": "HFfifB0KYNIe",
        "outputId": "bdca43e9-d129-4ac7-e293-c890c9740f0c"
      },
      "execution_count": null,
      "outputs": [
        {
          "output_type": "stream",
          "name": "stdout",
          "text": [
            "Epoch 1/5\n",
            "235/235 [==============================] - 3s 10ms/step - loss: 0.3160 - accuracy: 0.9093\n",
            "Epoch 2/5\n",
            "235/235 [==============================] - 2s 10ms/step - loss: 0.1308 - accuracy: 0.9624\n",
            "Epoch 3/5\n",
            "235/235 [==============================] - 2s 10ms/step - loss: 0.0865 - accuracy: 0.9747\n",
            "Epoch 4/5\n",
            "235/235 [==============================] - 2s 10ms/step - loss: 0.0624 - accuracy: 0.9818\n",
            "Epoch 5/5\n",
            "235/235 [==============================] - 2s 10ms/step - loss: 0.0477 - accuracy: 0.9859\n"
          ]
        },
        {
          "output_type": "execute_result",
          "data": {
            "text/plain": [
              "<keras.callbacks.History at 0x7f29261cced0>"
            ]
          },
          "metadata": {},
          "execution_count": 10
        }
      ]
    },
    {
      "cell_type": "code",
      "metadata": {
        "id": "Bh6QDhB69xe1"
      },
      "source": [
        ""
      ],
      "execution_count": null,
      "outputs": []
    }
  ]
}